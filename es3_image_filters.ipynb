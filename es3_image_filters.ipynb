{
 "cells": [
  {
   "cell_type": "markdown",
   "metadata": {},
   "source": [
    "# Excercise 3 Image Filtering"
   ]
  },
  {
   "cell_type": "code",
   "execution_count": null,
   "metadata": {},
   "outputs": [],
   "source": [
    "import scipy.ndimage as ndi\n",
    "import numpy as np\n",
    "import matplotlib.pyplot as plt\n",
    "import skimage.io as io"
   ]
  },
  {
   "cell_type": "markdown",
   "metadata": {},
   "source": [
    "### Smoothing filters"
   ]
  },
  {
   "cell_type": "code",
   "execution_count": null,
   "metadata": {},
   "outputs": [],
   "source": [
    "# Read image from disk and convert grey levels to double\n",
    "x = np.float64(io.imread(\"images/lena.jpg\"))\n",
    "\n",
    "# Create the filter kernel\n",
    "k = 3\n",
    "h = np.ones((k, k)) / (k ** 2) # mean filter kernel\n",
    "\n",
    "# Compute the filter output\n",
    "y = ndi.correlate(x, h, mode=\"reflect\")\n",
    "plt.figure(1)\n",
    "plt.subplot(1, 2, 1)\n",
    "plt.title(\"Original image\")\n",
    "plt.imshow(x, clim=[0, 255], cmap=\"gray\")\n",
    "plt.subplot(1, 2, 2)\n",
    "plt.title(f\"Mean filtered image k = {k}\")\n",
    "plt.imshow(y, clim=[0, 255], cmap=\"gray\")"
   ]
  },
  {
   "cell_type": "markdown",
   "metadata": {},
   "source": [
    "### Smoothing and tresholding\n",
    "An important application of spatial averaging filters is to blur the image so that small, uninteresting objects are confused with the background and to emphasize larger objects, which can then be easily detected."
   ]
  },
  {
   "cell_type": "code",
   "execution_count": null,
   "metadata": {},
   "outputs": [],
   "source": [
    "x = np.float64(io.imread(\"images/space.jpg\"))\n",
    "\n",
    "# Compute a mean filter with a kernel size of 10x10\n",
    "k = 10\n",
    "h = np.ones((k, k)) / (k ** 2)\n",
    "y = ndi.correlate(x, h, mode=\"reflect\")\n",
    "\n",
    "# Compute the maximum grey level\n",
    "max_grey = np.max(x)\n",
    "\n",
    "# Compute a mask that eliminates all grey levels below 25% of max value\n",
    "mask = y > (max_grey * (25.0 / 100.0))\n",
    "\n",
    "# Compute the tresholding\n",
    "z = mask * y\n",
    "\n",
    "# Show results\n",
    "plt.figure(1)\n",
    "plt.subplot(1, 3, 1)\n",
    "plt.title(\"Original image\")\n",
    "plt.imshow(x, clim=[0, 255], cmap=\"gray\")\n",
    "plt.subplot(1, 3, 2)\n",
    "plt.title(f\"Mean filtered image\")\n",
    "plt.imshow(y, clim=[0, 255], cmap=\"gray\")\n",
    "plt.subplot(1, 3, 3)\n",
    "plt.title(f\"Tresholded image at 25%\")\n",
    "plt.imshow(z, clim=[0, 255], cmap=\"gray\")\n",
    "plt.subplots_adjust(wspace=0.8, hspace=0.8)"
   ]
  }
 ],
 "metadata": {
  "kernelspec": {
   "display_name": "Python 3",
   "language": "python",
   "name": "python3"
  },
  "language_info": {
   "codemirror_mode": {
    "name": "ipython",
    "version": 3
   },
   "file_extension": ".py",
   "mimetype": "text/x-python",
   "name": "python",
   "nbconvert_exporter": "python",
   "pygments_lexer": "ipython3",
   "version": "3.13.1"
  }
 },
 "nbformat": 4,
 "nbformat_minor": 2
}
