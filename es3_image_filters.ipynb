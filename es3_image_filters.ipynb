{
 "cells": [
  {
   "cell_type": "markdown",
   "metadata": {},
   "source": [
    "# Excercise 3 Image Filtering"
   ]
  },
  {
   "cell_type": "code",
   "execution_count": null,
   "metadata": {},
   "outputs": [],
   "source": [
    "import scipy.ndimage as ndi\n",
    "import numpy as np\n",
    "import matplotlib.pyplot as plt\n",
    "import skimage.io as io"
   ]
  },
  {
   "cell_type": "markdown",
   "metadata": {},
   "source": [
    "### Smoothing filters"
   ]
  },
  {
   "cell_type": "code",
   "execution_count": null,
   "metadata": {},
   "outputs": [],
   "source": [
    "# Read image from disk and convert grey levels to double\n",
    "x = np.float64(io.imread(\"images/lena.jpg\"))\n",
    "\n",
    "# Create the filter kernel\n",
    "k = 3\n",
    "h = np.ones((k, k)) / (k ** 2) # mean filter kernel\n",
    "\n",
    "# Compute the filter output\n",
    "y = ndi.correlate(x, h, mode=\"reflect\")\n",
    "plt.figure(1)\n",
    "plt.subplot(1, 2, 1)\n",
    "plt.title(\"Original image\")\n",
    "plt.imshow(x, clim=[0, 255], cmap=\"gray\")\n",
    "plt.subplot(1, 2, 2)\n",
    "plt.title(f\"Mean filtered image k = {k}\")\n",
    "plt.imshow(y, clim=[0, 255], cmap=\"gray\")"
   ]
  },
  {
   "cell_type": "markdown",
   "metadata": {},
   "source": [
    "### Gaussian filter"
   ]
  },
  {
   "cell_type": "code",
   "execution_count": null,
   "metadata": {},
   "outputs": [],
   "source": [
    "# Read image from disk and convert grey levels to double\n",
    "x = np.float64(io.imread(\"images/lena.jpg\"))\n",
    "y = ndi.gaussian_filter(x, sigma=5, order=0) # TODO: check on documentation\n",
    "plt.figure(1)\n",
    "plt.subplot(1, 2, 1)\n",
    "plt.title(\"Original image\")\n",
    "plt.imshow(x, clim=[0, 255], cmap=\"gray\")\n",
    "plt.subplot(1, 2, 2)\n",
    "plt.title(f\"Gaussian filtered image\")\n",
    "plt.imshow(y, clim=[0, 255], cmap=\"gray\")"
   ]
  },
  {
   "cell_type": "markdown",
   "metadata": {},
   "source": [
    "### Smoothing and tresholding\n",
    "An important application of spatial averaging filters is to blur the image so that small, uninteresting objects are confused with the background and to emphasize larger objects, which can then be easily detected."
   ]
  },
  {
   "cell_type": "code",
   "execution_count": null,
   "metadata": {},
   "outputs": [],
   "source": [
    "x = np.float64(io.imread(\"images/space.jpg\"))\n",
    "\n",
    "# Compute a mean filter with a kernel size of 15x15\n",
    "k = 15\n",
    "h = np.ones((k, k)) / (k ** 2)\n",
    "y = ndi.correlate(x, h, mode=\"reflect\")\n",
    "\n",
    "# Compute the maximum grey level\n",
    "max_grey = np.max(y)\n",
    "\n",
    "# Compute a mask that eliminates all grey levels below 25% of max value\n",
    "mask = y > (max_grey * (25.0 / 100.0))\n",
    "\n",
    "# Compute the tresholding\n",
    "z = mask * x\n",
    "\n",
    "# Show results\n",
    "plt.figure(1)\n",
    "plt.subplot(1, 3, 1)\n",
    "plt.title(\"Original image\")\n",
    "plt.imshow(x, clim=[0, 255], cmap=\"gray\")\n",
    "plt.subplot(1, 3, 2)\n",
    "plt.title(f\"Mean filtered image\")\n",
    "plt.imshow(y, clim=[0, 255], cmap=\"gray\")\n",
    "plt.subplot(1, 3, 3)\n",
    "plt.title(f\"Tresholded image at 25%\")\n",
    "plt.imshow(z, clim=[0, 255], cmap=\"gray\")\n",
    "plt.subplots_adjust(wspace=0.8, hspace=0.8)"
   ]
  },
  {
   "cell_type": "markdown",
   "metadata": {},
   "source": [
    "### Denoising"
   ]
  },
  {
   "cell_type": "code",
   "execution_count": null,
   "metadata": {},
   "outputs": [],
   "source": [
    "x = np.float64(io.imread(\"images/lena.jpg\"))\n",
    "d = 25.0 # noise std\n",
    "M, N = x.shape\n",
    "noisy = x + d * np.random.randn(M, N)\n",
    "\n",
    "plt.figure()\n",
    "plt.title(\"Original image\")\n",
    "plt.imshow(x, clim=[0, 255], cmap=\"gray\")\n",
    "plt.figure()\n",
    "plt.title(f\"Noised image (std = {d})\")\n",
    "plt.imshow(noisy, cmap=\"gray\")\n",
    "\n",
    "# Denoising\n",
    "k = 5\n",
    "y = ndi.uniform_filter(noisy, k)\n",
    "mse = np.mean(((x - y) ** 2)) # Compute the MSE between x and y\n",
    "plt.figure()\n",
    "plt.title(f\"Denoised image (uniform filter, k = {k}, mse = {mse})\")\n",
    "plt.imshow(y, clim=[0, 255], cmap=\"gray\")\n"
   ]
  },
  {
   "cell_type": "markdown",
   "metadata": {},
   "source": [
    "### Spatial adaptive filter"
   ]
  },
  {
   "cell_type": "code",
   "execution_count": null,
   "metadata": {},
   "outputs": [],
   "source": [
    "x = np.float64(io.imread(\"images/barbara.png\"))\n",
    "M, N = x.shape\n",
    "curve = []\n",
    "\n",
    "for d in range(5, 45, 5):\n",
    "\tk = 7\n",
    "\tvar = d ** 2\n",
    "\tnoisy = x + d * np.random.randn(M, N)\n",
    "\tlocal_mean = ndi.generic_filter(noisy, np.mean, (k,k))\n",
    "\tlocal_var = ndi.generic_filter(noisy, np.var, (k,k))\n",
    "\tout = noisy - (var / local_var) * (noisy - local_mean)\n",
    "\tmse = np.mean((x - out) ** 2)\n",
    "\tcurve.append((d, mse))\n",
    "\tplt.figure()\n",
    "\tplt.title(f\"Filtered image with d = {d} and k = {k}\")\n",
    "\tplt.imshow(out, cmap=\"gray\", clim=[0, 255])\n",
    "\n",
    "a,b = zip(*curve)\n",
    "plt.figure()\n",
    "plt.stem(a, b)\n",
    "plt.xlabel('Noise Sigma')\n",
    "plt.ylabel('MSE')\n",
    "plt.title('MSE vs Sigma Noise')\n",
    "plt.grid(True)\n",
    "plt.show()"
   ]
  },
  {
   "cell_type": "markdown",
   "metadata": {},
   "source": [
    "### Point and line detection"
   ]
  },
  {
   "cell_type": "code",
   "execution_count": null,
   "metadata": {},
   "outputs": [],
   "source": [
    "# Point detection\n",
    "x = np.float64(io.imread(\"images/turbina.jpg\"))\n",
    "h_line = np.array([\n",
    "\t[-1, -1, -1],\n",
    "\t[-1, 8, -1],\n",
    "\t[-1, -1, -1]\n",
    "])\n",
    "y = ndi.correlate(x, h_line)\n",
    "y = abs(y)\n",
    "mask = y > (0.9 * np.max(y))\n",
    "y = mask * y\n",
    "\n",
    "plt.figure()\n",
    "plt.imshow(x, clim=[0, 255], cmap=\"gray\")\n",
    "plt.figure()\n",
    "plt.imshow(y, cmap=\"gray\")"
   ]
  },
  {
   "cell_type": "code",
   "execution_count": null,
   "metadata": {},
   "outputs": [],
   "source": [
    "# Line detection\n",
    "x = np.float64(io.imread(\"images/quadrato.jpg\"))\n",
    "h_line_1 = np.array([\n",
    "\t[-1, -1, -1],\n",
    "\t[2, 2, 2],\n",
    "\t[-1, -1, -1]\n",
    "])\n",
    "h_line_2 = np.array([\n",
    "\t[-1, -1, 2],\n",
    "\t[-1, 2, -1],\n",
    "\t[2, -1, -1]\n",
    "])\n",
    "h_line_3 = np.array([\n",
    "\t[-1, 2, -1],\n",
    "\t[-1, 2, -1],\n",
    "\t[-1, 2, -1]\n",
    "])\n",
    "h_line_4 = np.array([\n",
    "\t[2, -1, -1],\n",
    "\t[-1, 2, -1],\n",
    "\t[-1, -1, 2]\n",
    "])\n",
    "\n",
    "y1 = np.abs(ndi.correlate(x, h_line_1))\n",
    "y2 = np.abs(ndi.correlate(x, h_line_2))\n",
    "y3 = np.abs(ndi.correlate(x, h_line_3))\n",
    "y4 = np.abs(ndi.correlate(x, h_line_4))\n",
    "\n",
    "y_stack = np.stack([y1, y2, y3, y4], axis=-1)\n",
    "z = np.max(y_stack, 2)\n",
    "\n",
    "plt.figure()\n",
    "plt.imshow(x, clim=[0, 255], cmap=\"gray\")\n",
    "plt.figure()\n",
    "plt.imshow(y1, cmap=\"gray\")\n",
    "plt.figure()\n",
    "plt.imshow(y2, cmap=\"gray\")\n",
    "plt.figure()\n",
    "plt.imshow(y3, cmap=\"gray\")\n",
    "plt.figure()\n",
    "plt.imshow(y4, cmap=\"gray\")\n",
    "plt.figure()\n",
    "plt.imshow(z, cmap=\"gray\")\n"
   ]
  },
  {
   "cell_type": "markdown",
   "metadata": {},
   "source": [
    "### Gradient-based edge detection"
   ]
  },
  {
   "cell_type": "code",
   "execution_count": null,
   "metadata": {},
   "outputs": [],
   "source": [
    "x = np.float64(io.imread(\"images/lena.jpg\"))\n",
    "plt.figure()\n",
    "plt.title(\"Original image\")\n",
    "plt.imshow(x, clim=[0, 255], cmap=\"gray\")\n",
    "\n",
    "h1 = np.array([\n",
    "\t[0, 0],\n",
    "\t[-1, 1]\n",
    "])\n",
    "\n",
    "h2 = np.array([\n",
    "\t[0, -1],\n",
    "\t[0, 1]\n",
    "])\n",
    "\n",
    "y1 = ndi.correlate(x, h1)\n",
    "y2 = ndi.correlate(x, h2)\n",
    "\n",
    "g = np.sqrt(y1 ** 2 + y2 ** 2)\n",
    "plt.figure()\n",
    "plt.title(\"Gradient image\")\n",
    "plt.imshow(g, clim=[0, 255], cmap=\"gray\")\n",
    "\n",
    "T = 1.5 * np.mean(g)\n",
    "mask = g > T\n",
    "tresholded = g * mask\n",
    "plt.figure()\n",
    "plt.title(\"Tresholding mask\")\n",
    "plt.imshow(mask, clim=[0, 1], cmap=\"gray\")\n",
    "plt.colorbar()"
   ]
  },
  {
   "cell_type": "markdown",
   "metadata": {},
   "source": [
    "### Guassian filter before edge detection"
   ]
  },
  {
   "cell_type": "code",
   "execution_count": null,
   "metadata": {},
   "outputs": [],
   "source": [
    "x = np.float64(io.imread(\"images/angiogramma.jpg\"))\n",
    "plt.figure()\n",
    "plt.title(\"Original image\")\n",
    "plt.imshow(x, clim=[0, 255], cmap=\"gray\")\n",
    "\n",
    "h1 = np.array([\n",
    "\t[0, 0],\n",
    "\t[-1, 1]\n",
    "])\n",
    "\n",
    "h2 = np.array([\n",
    "\t[0, -1],\n",
    "\t[0, 1]\n",
    "])\n",
    "\n",
    "y = ndi.gaussian_filter(x, (3,3))\n",
    "\n",
    "y1 = ndi.correlate(y, h1)\n",
    "y2 = ndi.correlate(y, h2)\n",
    "\n",
    "g = np.sqrt(y1 ** 2 + y2 ** 2)\n",
    "plt.figure()\n",
    "plt.title(\"Gradient image\")\n",
    "plt.imshow(g, clim=None, cmap=\"gray\")\n",
    "plt.colorbar()\n",
    "\n",
    "T = 1.4 * np.mean(g)\n",
    "mask = g > T\n",
    "tresholded = g * mask\n",
    "plt.figure()\n",
    "plt.title(\"Tresholding mask\")\n",
    "plt.imshow(mask, clim=[0, 1], cmap=\"gray\")\n",
    "plt.colorbar()\n"
   ]
  },
  {
   "cell_type": "markdown",
   "metadata": {},
   "source": [
    "### Gaussian laplace"
   ]
  },
  {
   "cell_type": "code",
   "execution_count": null,
   "metadata": {},
   "outputs": [],
   "source": [
    "x = np.float64(io.imread(\"images/angiogramma.jpg\"))\n",
    "plt.figure()\n",
    "plt.title(\"Original image\")\n",
    "plt.imshow(x, clim=[0, 255], cmap=\"gray\")\n",
    "\n",
    "sigma = 5\n",
    "y = ndi.gaussian_laplace(x, (sigma,sigma))\n",
    "plt.figure()\n",
    "plt.title(\"Gaussian laplace filtered\")\n",
    "plt.imshow(y, clim=None, cmap=\"gray\")\n",
    "\n",
    "# We have to evaluate the zero crossing\n",
    "from seg_utils import zero_crossing\n",
    "z = zero_crossing(y)\n",
    "plt.figure()\n",
    "plt.title(\"After zero crossing eval\")\n",
    "plt.imshow(z, clim=None, cmap=\"gray\")"
   ]
  },
  {
   "cell_type": "markdown",
   "metadata": {},
   "source": [
    "### Non linear filters: median filter"
   ]
  },
  {
   "cell_type": "code",
   "execution_count": null,
   "metadata": {},
   "outputs": [],
   "source": [
    "x = np.float64(io.imread(\"images/circuito_rumoroso.jpg\"))\n",
    "plt.figure()\n",
    "plt.title(\"Original image\")\n",
    "plt.imshow(x, clim=[0, 255], cmap=\"gray\")\n",
    "\n",
    "k = 3\n",
    "y = ndi.generic_filter(x, np.median, (k,k))\n",
    "plt.figure()\n",
    "plt.title(\"Median filtered image\")\n",
    "plt.imshow(y, clim=None, cmap=\"gray\")"
   ]
  },
  {
   "cell_type": "markdown",
   "metadata": {},
   "source": [
    "### Guided filtering"
   ]
  },
  {
   "cell_type": "code",
   "execution_count": null,
   "metadata": {},
   "outputs": [],
   "source": [
    "m = np.float64(io.imread(\"images/mask.png\"))\n",
    "plt.figure()\n",
    "plt.title(\"Original mask\")\n",
    "plt.imshow(m, clim=[0, 255], cmap=\"gray\")\n",
    "\n",
    "g = np.float64(io.imread(\"images/guida.png\"))\n",
    "plt.figure()\n",
    "plt.title(\"Original image\")\n",
    "plt.imshow(g, clim=[0, 255], cmap=\"gray\")\n",
    "\n",
    "def guided_filter(x, g, B):\n",
    "\tmax_x = np.max(x)\n",
    "\tx_norm = x / max_x\n",
    "\tmax_g = np.max(g)\n",
    "\tg_norm = g / max_g\n",
    "\n",
    "\tlocal_mean_x = ndi.generic_filter(x_norm, np.mean, (B,B))\n",
    "\tlocal_mean_g = ndi.generic_filter(g_norm, np.mean, (B,B))\n",
    "\tlocal_var_g = ndi.generic_filter(g_norm, np.var, (B,B))\n",
    "\n",
    "\tlocal_corr_x_g = ndi.generic_filter(g_norm * x_norm, np.mean, (B,B))\n",
    "\n",
    "\teps = 2e-60\n",
    "\ta = (local_corr_x_g - (local_mean_x * local_mean_g)) / (local_var_g + eps)\n",
    "\tb = local_mean_x - a * local_mean_g\n",
    "\n",
    "\tua = ndi.generic_filter(a, np.mean, (B,B))\n",
    "\tub = ndi.generic_filter(b, np.mean, (B,B))\n",
    "\n",
    "\treturn (ua * g_norm) + ub\n",
    "\n",
    "y = guided_filter(m, g, 10)\n",
    "plt.figure()\n",
    "plt.title(\"Elaborated mask\")\n",
    "plt.imshow(y, clim=None, cmap=\"gray\")\n",
    "\n",
    "z = g * y\n",
    "plt.figure()\n",
    "plt.title(\"Elaborated image with elaborated mask\")\n",
    "plt.imshow(z, clim=None, cmap=\"gray\")\n",
    "\n",
    "plt.figure()\n",
    "plt.title(\"Elaborated image with original mask\")\n",
    "plt.imshow(m * g, clim=None, cmap=\"gray\")\n"
   ]
  }
 ],
 "metadata": {
  "kernelspec": {
   "display_name": "Python 3",
   "language": "python",
   "name": "python3"
  },
  "language_info": {
   "codemirror_mode": {
    "name": "ipython",
    "version": 3
   },
   "file_extension": ".py",
   "mimetype": "text/x-python",
   "name": "python",
   "nbconvert_exporter": "python",
   "pygments_lexer": "ipython3",
   "version": "3.12.4"
  }
 },
 "nbformat": 4,
 "nbformat_minor": 2
}
