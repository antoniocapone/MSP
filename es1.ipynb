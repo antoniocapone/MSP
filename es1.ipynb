{
 "cells": [
  {
   "cell_type": "markdown",
   "metadata": {},
   "source": [
    "# Esercitazione Python 1"
   ]
  },
  {
   "cell_type": "code",
   "execution_count": 1,
   "metadata": {},
   "outputs": [],
   "source": [
    "import numpy as np # importa Numpy\n",
    "import matplotlib.pyplot as plt # importa Matplotlib\n",
    "import scipy.ndimage as ndi # importa Scipy per le immagini\n",
    "import skimage.io as io # importa il modulo Input/Output di SK-Image"
   ]
  },
  {
   "cell_type": "markdown",
   "metadata": {},
   "source": [
    "### Vector and matrix initialization"
   ]
  },
  {
   "cell_type": "code",
   "execution_count": 2,
   "metadata": {},
   "outputs": [],
   "source": [
    "# Vector\n",
    "V = np.array([1, 2, 3, 4, 5])\n",
    "\n",
    "# Matrix\n",
    "M = np.array([\n",
    "\t[10, 2, 3],\n",
    "\t[4, 5, 6],\n",
    "\t[7, 8, 9]\n",
    "])"
   ]
  },
  {
   "cell_type": "code",
   "execution_count": null,
   "metadata": {},
   "outputs": [],
   "source": [
    "P = np.arange(5, 10, 3)\n",
    "print(P)"
   ]
  },
  {
   "cell_type": "code",
   "execution_count": null,
   "metadata": {},
   "outputs": [],
   "source": [
    "# submatrix\n",
    "slice_M = M[:2, :2]\n",
    "print(slice_M)"
   ]
  },
  {
   "cell_type": "code",
   "execution_count": null,
   "metadata": {},
   "outputs": [],
   "source": [
    "# minimum of the entire matrix\n",
    "min_M = np.min(M)\n",
    "print(min_M)\n",
    "\n",
    "min_row = np.min(M, axis=0)\n",
    "print(min_row)"
   ]
  },
  {
   "cell_type": "code",
   "execution_count": null,
   "metadata": {},
   "outputs": [],
   "source": [
    "np.save(file=\"m.npy\", arr=M)\n",
    "loaded_M = np.load(file=\"m.npy\")"
   ]
  },
  {
   "cell_type": "markdown",
   "metadata": {},
   "source": [
    "### Lettura di un immagine su scala di grigio"
   ]
  },
  {
   "cell_type": "code",
   "execution_count": null,
   "metadata": {},
   "outputs": [],
   "source": [
    "# requires numpy, matplotlib.pyplot, scipy.io\n",
    "\n",
    "x = io.imread(\"images/granelli.jpg\") # x is a numpy array\n",
    "print(f\"Dimensioni dell'immagine: {x.shape}\")\n",
    "\n",
    "plt.figure(1)\n",
    "plt.imshow(x, clim=[0, 255], cmap=\"gray\") # TODO: vedi che succede a valori di default\n",
    "plt.colorbar()"
   ]
  },
  {
   "cell_type": "markdown",
   "metadata": {},
   "source": [
    "### Lettura di un'immagine in formato NON-standard (cioè senza metadati che indicano come leggere l'immagine)"
   ]
  },
  {
   "cell_type": "code",
   "execution_count": null,
   "metadata": {},
   "outputs": [],
   "source": [
    "# usiamo numpy per leggere immagini in formato raw (bisogna conoscere le dimensioni a priori)\n",
    "x = np.fromfile(\"images/house.y\", np.uint8)\n",
    "x = np.reshape(x, (512, 512))\n",
    "\n",
    "# salvataggio di un'immagine raw post elaborazione\n",
    "x = np.uint8(x) # le elaborazioni possono aver generato float\n",
    "io.imsave(\"post_elab.jpg\", x, quality=70)\n",
    "\n",
    "# leggiamo l'immagine che abbiamo salvato\n",
    "y = io.imread(\"post_elab.jpg\")\n",
    "plt.figure(1)\n",
    "plt.imshow()"
   ]
  },
  {
   "cell_type": "markdown",
   "metadata": {},
   "source": [
    "### Visualizzazione di immagini a colori"
   ]
  },
  {
   "cell_type": "code",
   "execution_count": null,
   "metadata": {},
   "outputs": [],
   "source": [
    "x = io.imread(\"images/fragole.jpg\")\n",
    "plt.figure(1)\n",
    "plt.imshow(x)\n",
    "plt.colorbar()\n",
    "\n",
    "# Estrazione delle 3 bande di colore\n",
    "R = x[:,:,0] # tutte le righe, tutte le colonne, la prima banda\n",
    "G = x[:,:,1]\n",
    "B = x[:,:,2]\n",
    "\n",
    "rows, cols, _ = x.shape\n",
    "\n",
    "# Annulliamo una delle 3 bande, il rosso\n",
    "NEW_R = np.zeros((rows, cols), x.dtype)\n",
    "y = np.stack((NEW_R, G, B), 2)\n",
    "\n",
    "plt.figure(2)\n",
    "plt.imshow(y)"
   ]
  },
  {
   "cell_type": "markdown",
   "metadata": {},
   "source": [
    "### Calcolo delle caratteristiche sintetiche di un'immagine"
   ]
  },
  {
   "cell_type": "code",
   "execution_count": null,
   "metadata": {},
   "outputs": [],
   "source": [
    "xmed = np.mean(x)\n",
    "xstd = np.std(x)\n",
    "xvar = np.var(x)\n",
    "\n",
    "print(\"(%d,%d,%d)\" % (xmed, xstd, xvar))"
   ]
  },
  {
   "cell_type": "markdown",
   "metadata": {},
   "source": [
    "# Esercizio 1\n"
   ]
  }
 ],
 "metadata": {
  "kernelspec": {
   "display_name": "Python 3",
   "language": "python",
   "name": "python3"
  },
  "language_info": {
   "codemirror_mode": {
    "name": "ipython",
    "version": 3
   },
   "file_extension": ".py",
   "mimetype": "text/x-python",
   "name": "python",
   "nbconvert_exporter": "python",
   "pygments_lexer": "ipython3",
   "version": "3.12.4"
  }
 },
 "nbformat": 4,
 "nbformat_minor": 2
}
