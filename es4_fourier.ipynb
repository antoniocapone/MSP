{
 "cells": [
  {
   "cell_type": "markdown",
   "metadata": {},
   "source": [
    "# Fourier"
   ]
  },
  {
   "cell_type": "code",
   "execution_count": null,
   "metadata": {},
   "outputs": [],
   "source": [
    "import scipy.ndimage as ndi\n",
    "import numpy as np\n",
    "import matplotlib.pyplot as plt\n",
    "import skimage.io as io"
   ]
  },
  {
   "cell_type": "code",
   "execution_count": null,
   "metadata": {},
   "outputs": [],
   "source": [
    "x = np.float64(io.imread(\"images/rettangolo.jpg\"))\n",
    "X = np.abs(np.fft.fft2(x))\n",
    "\n",
    "plt.figure()\n",
    "plt.title(\"Original image\")\n",
    "plt.imshow(x, cmap=\"gray\")\n",
    "\n",
    "plt.figure()\n",
    "plt.title(\"Original Fourier transform\")\n",
    "plt.imshow(X, cmap=\"gray\")\n",
    "\n",
    "X_enhanced = np.log(1 + np.fft.fftshift(X))\n",
    "plt.figure()\n",
    "plt.title(\"Enhanced Fourier transform\")\n",
    "plt.imshow(X_enhanced, cmap=\"gray\", extent=(-0.5, 0.5, -0.5, 0.5))\n",
    "\n"
   ]
  }
 ],
 "metadata": {
  "kernelspec": {
   "display_name": "Python 3",
   "language": "python",
   "name": "python3"
  },
  "language_info": {
   "codemirror_mode": {
    "name": "ipython",
    "version": 3
   },
   "file_extension": ".py",
   "mimetype": "text/x-python",
   "name": "python",
   "nbconvert_exporter": "python",
   "pygments_lexer": "ipython3",
   "version": "3.12.4"
  }
 },
 "nbformat": 4,
 "nbformat_minor": 2
}
