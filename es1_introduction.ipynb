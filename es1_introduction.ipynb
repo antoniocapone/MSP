{
 "cells": [
  {
   "cell_type": "markdown",
   "metadata": {},
   "source": [
    "# Excercise Python 1"
   ]
  },
  {
   "cell_type": "code",
   "execution_count": null,
   "metadata": {},
   "outputs": [],
   "source": [
    "import numpy as np\n",
    "import matplotlib.pyplot as plt\n",
    "import scipy.ndimage as ndi\n",
    "import skimage.io as io"
   ]
  },
  {
   "cell_type": "markdown",
   "metadata": {},
   "source": [
    "### Vector and matrix initialization"
   ]
  },
  {
   "cell_type": "code",
   "execution_count": null,
   "metadata": {},
   "outputs": [],
   "source": [
    "# Vector\n",
    "V = np.array([1, 2, 3, 4, 5])\n",
    "\n",
    "# Matrix\n",
    "M = np.array([\n",
    "\t[10, 2, 3],\n",
    "\t[4, 5, 6],\n",
    "\t[7, 8, 9]\n",
    "])"
   ]
  },
  {
   "cell_type": "code",
   "execution_count": null,
   "metadata": {},
   "outputs": [],
   "source": [
    "P = np.arange(5, 10, 3)\n",
    "print(P)"
   ]
  },
  {
   "cell_type": "code",
   "execution_count": null,
   "metadata": {},
   "outputs": [],
   "source": [
    "# submatrix\n",
    "slice_M = M[:2, :2]\n",
    "print(slice_M)"
   ]
  },
  {
   "cell_type": "code",
   "execution_count": null,
   "metadata": {},
   "outputs": [],
   "source": [
    "# minimum of the entire matrix\n",
    "min_M = np.min(M)\n",
    "print(min_M)\n",
    "\n",
    "min_row = np.min(M, axis=0)\n",
    "print(min_row)\n",
    "\n",
    "min_col = np.min(M, axis=1)\n",
    "print(min_col)"
   ]
  },
  {
   "cell_type": "code",
   "execution_count": null,
   "metadata": {},
   "outputs": [],
   "source": [
    "np.save(file=\"m.npy\", arr=M)\n",
    "loaded_M = np.load(file=\"m.npy\")"
   ]
  },
  {
   "cell_type": "markdown",
   "metadata": {},
   "source": [
    "### Read a grey scale image"
   ]
  },
  {
   "cell_type": "code",
   "execution_count": null,
   "metadata": {},
   "outputs": [],
   "source": [
    "# requires numpy, matplotlib.pyplot, scipy.io\n",
    "\n",
    "x = io.imread(\"images/granelli.jpg\") # x is a numpy array\n",
    "print(f\"Image dimensions: {x.shape}\")\n",
    "\n",
    "plt.figure(1)\n",
    "plt.imshow(x, clim=[0, 255], cmap=\"gray\") # TODO: see what happens with default values\n",
    "plt.colorbar()"
   ]
  },
  {
   "cell_type": "markdown",
   "metadata": {},
   "source": [
    "### Read a RAW image (binary file without header)"
   ]
  },
  {
   "cell_type": "code",
   "execution_count": null,
   "metadata": {},
   "outputs": [],
   "source": [
    "# we use numpy for reading raw images, we have to know image dimension and grey levels a priori\n",
    "x = np.fromfile(\"images/house.y\", np.uint8)\n",
    "x = np.reshape(x, (512, 512))\n",
    "\n",
    "# saving a raw image on a file\n",
    "x = np.uint8(x) # image processing could generate float values\n",
    "io.imsave(\"post_elab.jpg\", x, quality=70)\n",
    "\n",
    "# readback\n",
    "y = io.imread(\"post_elab.jpg\")\n",
    "plt.figure(1)\n",
    "plt.imshow()"
   ]
  },
  {
   "cell_type": "markdown",
   "metadata": {},
   "source": [
    "### Read a colored image"
   ]
  },
  {
   "cell_type": "code",
   "execution_count": null,
   "metadata": {},
   "outputs": [],
   "source": [
    "x = io.imread(\"images/fragole.jpg\")\n",
    "plt.figure(1)\n",
    "plt.imshow(x)\n",
    "plt.colorbar()\n",
    "\n",
    "# RGB bands extraction\n",
    "R = x[:,:,0] # all rows, all cols, first band (red)\n",
    "G = x[:,:,1]\n",
    "B = x[:,:,2]\n",
    "\n",
    "rows, cols, _ = x.shape\n",
    "\n",
    "# Let's eliminate the red band\n",
    "NEW_R = np.zeros((rows, cols), x.dtype)\n",
    "y = np.stack((NEW_R, G, B), 2)\n",
    "\n",
    "plt.figure(2)\n",
    "plt.imshow(y)"
   ]
  },
  {
   "cell_type": "markdown",
   "metadata": {},
   "source": [
    "### Calcolo delle caratteristiche sintetiche di un'immagine"
   ]
  },
  {
   "cell_type": "code",
   "execution_count": null,
   "metadata": {},
   "outputs": [],
   "source": [
    "xmed = np.mean(x)\n",
    "xstd = np.std(x)\n",
    "xvar = np.var(x)\n",
    "\n",
    "print(\"(%d,%d,%d)\" % (xmed, xstd, xvar))"
   ]
  }
 ],
 "metadata": {
  "kernelspec": {
   "display_name": "Python 3",
   "language": "python",
   "name": "python3"
  },
  "language_info": {
   "codemirror_mode": {
    "name": "ipython",
    "version": 3
   },
   "file_extension": ".py",
   "mimetype": "text/x-python",
   "name": "python",
   "nbconvert_exporter": "python",
   "pygments_lexer": "ipython3",
   "version": "3.13.1"
  }
 },
 "nbformat": 4,
 "nbformat_minor": 2
}
